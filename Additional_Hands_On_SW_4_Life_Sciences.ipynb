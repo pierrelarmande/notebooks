{
  "nbformat": 4,
  "nbformat_minor": 0,
  "metadata": {
    "colab": {
      "provenance": [],
      "collapsed_sections": [],
      "authorship_tag": "ABX9TyOvw7OoHYhd5UF4tbCngd49",
      "include_colab_link": true
    },
    "kernelspec": {
      "name": "python3",
      "display_name": "Python 3"
    },
    "language_info": {
      "name": "python"
    }
  },
  "cells": [
    {
      "cell_type": "markdown",
      "metadata": {
        "id": "view-in-github",
        "colab_type": "text"
      },
      "source": [
        "<a href=\"https://colab.research.google.com/github/pierrelarmande/notebooks/blob/main/Additional_Hands_On_SW_4_Life_Sciences.ipynb\" target=\"_parent\"><img src=\"https://colab.research.google.com/assets/colab-badge.svg\" alt=\"Open In Colab\"/></a>"
      ]
    },
    {
      "cell_type": "markdown",
      "metadata": {
        "id": "oOlMPw-hnuM0"
      },
      "source": [
        "# Install the packages"
      ]
    },
    {
      "cell_type": "code",
      "metadata": {
        "id": "NUr5fp6-ngLb"
      },
      "source": [
        "!pip install rdflib SPARQLWrapper requests pandas geopandas"
      ],
      "execution_count": null,
      "outputs": []
    },
    {
      "cell_type": "markdown",
      "metadata": {
        "id": "Gbk2JRPrn6cg"
      },
      "source": [
        "# Query Dbpedia : What is the impact of pandemic per country ?"
      ]
    },
    {
      "cell_type": "code",
      "metadata": {
        "id": "Ial4yGFJtWqF"
      },
      "source": [
        "import requests\n",
        "\n",
        "query = \"\"\"\n",
        "SELECT ?countryLabel ?maxPopulation ?maxDeath  WITH {\n",
        "  SELECT DISTINCT ?country (MAX(?numDeaths) AS ?maxDeath) (MAX(?population) AS ?maxPopulation) WHERE {\n",
        "    ?outbreak p:P31 [ ps:P31 wd:Q3241045 ; pq:P642 wd:Q84263196 ] ;\n",
        "              wdt:P276 ?country ; wdt:P1120 ?numDeaths .\n",
        "    ?country wdt:P31 wd:Q3624078 ; wdt:P1082 ?population .\n",
        "  } GROUP BY ?country\n",
        "} AS %DATA {\n",
        "  INCLUDE %DATA\n",
        "  SERVICE wikibase:label { bd:serviceParam wikibase:language \"en,en\". }\n",
        "}\n",
        "\"\"\""
      ],
      "execution_count": 8,
      "outputs": []
    },
    {
      "cell_type": "markdown",
      "source": [
        "1. execute the query using SPARQLWrapper on (https://query.wikidata.org/sparql) and get the results in a variable"
      ],
      "metadata": {
        "id": "cu7nZ1rPme7N"
      }
    },
    {
      "cell_type": "markdown",
      "metadata": {
        "id": "-AbHuxb4mttS"
      },
      "source": [
        "# Print the results\n",
        "note: results are available as key/value pair in **results[\"results\"][\"bindings\"]**. Key correspond to select variable name of the SPARQL query"
      ]
    },
    {
      "cell_type": "code",
      "metadata": {
        "id": "EbbqK9kGoOoh"
      },
      "source": [],
      "execution_count": null,
      "outputs": []
    },
    {
      "cell_type": "markdown",
      "metadata": {
        "id": "qcuk30qyoz7X"
      },
      "source": [
        "# Import the result in a pandas dataframe"
      ]
    },
    {
      "cell_type": "code",
      "metadata": {
        "id": "1PGzcIwj6HGO"
      },
      "source": [
        "import pandas as pd\n",
        "from collections import OrderedDict\n",
        "\n",
        "countries = []\n",
        "for item in results['results']['bindings']:\n",
        "    countries.append(OrderedDict({\n",
        "        'country': item['countryLabel']['value'],\n",
        "        'population': item['maxPopulation']['value'],\n",
        "        'maxDeath': item['maxDeath']['value'],\n",
        "        }))\n"
      ],
      "execution_count": null,
      "outputs": []
    },
    {
      "cell_type": "markdown",
      "source": [
        "\n",
        "1. Set the country name as index of the dataframe \n",
        "2. Set the type of population and maxDeath column as float ( use **astype** function)\n",
        "3. sort the DF by maxDeath decreasing"
      ],
      "metadata": {
        "id": "eB9n6OqunHrv"
      }
    },
    {
      "cell_type": "markdown",
      "metadata": {
        "id": "S2zZCxkPpTF1"
      },
      "source": [
        "# Plot the results in a bar chart\n",
        "1. plot the 30 first results of the dataframe"
      ]
    },
    {
      "cell_type": "code",
      "metadata": {
        "id": "lphM2D3QtnYC"
      },
      "source": [],
      "execution_count": null,
      "outputs": []
    },
    {
      "cell_type": "markdown",
      "source": [
        "# Plot the results in a world map"
      ],
      "metadata": {
        "id": "huK8dSdZpJRI"
      }
    },
    {
      "cell_type": "code",
      "metadata": {
        "id": "t56l917vEHfp"
      },
      "source": [
        "import geopandas\n",
        "from numpy import log10\n",
        "import matplotlib.colors as colors\n",
        "\n",
        "# Read the geopandas dataset\n",
        "\n",
        "# Merge the two DataFrames together\n",
        "\n",
        "#plot using the geopandas dataframe"
      ],
      "execution_count": null,
      "outputs": []
    },
    {
      "cell_type": "markdown",
      "metadata": {
        "id": "6N9_DRxcRApk"
      },
      "source": [
        "Web Sources: <br>\n",
        "- https://geopandas.org/en/stable/docs/user_guide.html\n",
        "- \n",
        "https://towardsdatascience.com/where-do-mayors-come-from-querying-wikidata-with-python-and-sparql-91f3c0af22e2\n",
        "- https://egonw.github.io/SARS-CoV-2-Queries\n"
      ]
    }
  ]
}