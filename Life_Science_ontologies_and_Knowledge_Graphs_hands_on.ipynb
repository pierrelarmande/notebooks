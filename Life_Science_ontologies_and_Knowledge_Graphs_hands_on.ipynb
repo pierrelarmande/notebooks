{
  "nbformat": 4,
  "nbformat_minor": 0,
  "metadata": {
    "kernelspec": {
      "display_name": "Python 3",
      "language": "python",
      "name": "python3"
    },
    "language_info": {
      "codemirror_mode": {
        "name": "ipython",
        "version": 3
      },
      "file_extension": ".py",
      "mimetype": "text/x-python",
      "name": "python",
      "nbconvert_exporter": "python",
      "pygments_lexer": "ipython3",
      "version": "3.7.6"
    },
    "colab": {
      "provenance": [],
      "collapsed_sections": [],
      "include_colab_link": true
    }
  },
  "cells": [
    {
      "cell_type": "markdown",
      "metadata": {
        "id": "view-in-github",
        "colab_type": "text"
      },
      "source": [
        "<a href=\"https://colab.research.google.com/github/pierrelarmande/notebooks/blob/main/Life_Science_ontologies_and_Knowledge_Graphs_hands_on.ipynb\" target=\"_parent\"><img src=\"https://colab.research.google.com/assets/colab-badge.svg\" alt=\"Open In Colab\"/></a>"
      ]
    },
    {
      "cell_type": "markdown",
      "metadata": {
        "id": "1Qec7NB32G8k"
      },
      "source": [
        "# Life Science ontologies and Knowledge Graphs, HANDS-ON\n",
        "\n",
        "\n",
        "\n",
        "At the end of this hands-on session, you will be able to\n",
        " - explore and search publicly available biomedical ontologies, combine knowl- edge provided by multiple ontologies,\n",
        " - computationally exploit these ontologies: explore node neighborhood, navi- gate class hierarchies, retrieve synonyms,\n",
        " - understand how biochemical regulations are modeled in BioPAX,\n",
        " - assemble/summarize new graphs based on graph patterns.\n"
      ]
    },
    {
      "cell_type": "code",
      "metadata": {
        "id": "iPXBGQ963ALR"
      },
      "source": [
        "!pip install rdflib requests SPARQLWrapper "
      ],
      "execution_count": null,
      "outputs": []
    },
    {
      "cell_type": "code",
      "metadata": {
        "id": "PpVTCfbj2G8p"
      },
      "source": [],
      "execution_count": null,
      "outputs": []
    },
    {
      "cell_type": "markdown",
      "metadata": {
        "id": "nFfgsPHp2G8v"
      },
      "source": [
        "# 1. Querying pathways resources  \n",
        "\n",
        "We will now use WikiPathways (https://www.wikipathways.org/index.php/WikiPathways), WikiPathways is a database of biological pathways maintained by and for the scientific community and an RDF dataset. WikiPathways can be queried through its SPARQL endpoint (https://sparql.wikipathways.org/). \n",
        "\n",
        "WikiPathways use an ontology to represent regulation and signaling knowledge. Have a look on it (https://vocabularies.wikipathways.org). \n"
      ]
    },
    {
      "cell_type": "markdown",
      "metadata": {
        "id": "HAm_0ecu2G8w"
      },
      "source": [
        "## Question 1 : Count the number of species having pathways "
      ]
    },
    {
      "cell_type": "code",
      "metadata": {
        "id": "sYWxHdcs2G8x"
      },
      "source": [
        "query = \"\"\"\n",
        "\"\"\""
      ],
      "execution_count": null,
      "outputs": []
    },
    {
      "cell_type": "code",
      "source": [],
      "metadata": {
        "id": "ePyIPCPdYFQ8"
      },
      "execution_count": null,
      "outputs": []
    },
    {
      "cell_type": "markdown",
      "source": [
        "# Question 2 : Count the number of pathways per species"
      ],
      "metadata": {
        "id": "g47C8jWmaEjW"
      }
    },
    {
      "cell_type": "code",
      "source": [
        "query = \"\"\"\n",
        "\"\"\""
      ],
      "metadata": {
        "id": "LM-xE1C2bWlZ"
      },
      "execution_count": null,
      "outputs": []
    },
    {
      "cell_type": "markdown",
      "source": [
        "# Question 3 : List the pathway for the specie \"Arabidopsis thaliana\""
      ],
      "metadata": {
        "id": "ayRFLQs3byK9"
      }
    },
    {
      "cell_type": "code",
      "source": [
        "query = \"\"\"\n",
        "\"\"\""
      ],
      "metadata": {
        "id": "QqkZjxA6bxkt"
      },
      "execution_count": null,
      "outputs": []
    },
    {
      "cell_type": "markdown",
      "source": [
        "# Question 4 : Count the number of gene product for the pathways for the specie \"Arabidopsis thaliana\""
      ],
      "metadata": {
        "id": "Uu0FmcPDcO8Q"
      }
    },
    {
      "cell_type": "code",
      "source": [
        "query = \"\"\"\n",
        "\"\"\""
      ],
      "metadata": {
        "id": "jNLX3lRHc65J"
      },
      "execution_count": null,
      "outputs": []
    },
    {
      "cell_type": "markdown",
      "source": [
        "# Question 4: List the gene product for a particular pathway \"WP3662\""
      ],
      "metadata": {
        "id": "PGBUKtRGc8ss"
      }
    },
    {
      "cell_type": "code",
      "source": [
        "query = \"\"\"\n",
        "\"\"\""
      ],
      "metadata": {
        "id": "IqJ5dUwdgRJ-"
      },
      "execution_count": null,
      "outputs": []
    },
    {
      "cell_type": "code",
      "metadata": {
        "id": "-b68lvOT2G8x"
      },
      "source": [
        "\n"
      ],
      "execution_count": null,
      "outputs": []
    },
    {
      "cell_type": "code",
      "metadata": {
        "id": "FAQsSwcy2G8z"
      },
      "source": [],
      "execution_count": null,
      "outputs": []
    }
  ]
}