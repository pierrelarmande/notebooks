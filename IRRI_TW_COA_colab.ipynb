{
  "nbformat": 4,
  "nbformat_minor": 0,
  "metadata": {
    "colab": {
      "provenance": [],
      "authorship_tag": "ABX9TyNhYmshjJDH+Fg8NW1b9hZ4",
      "include_colab_link": true
    },
    "kernelspec": {
      "name": "python3",
      "display_name": "Python 3"
    },
    "language_info": {
      "name": "python"
    }
  },
  "cells": [
    {
      "cell_type": "markdown",
      "metadata": {
        "id": "view-in-github",
        "colab_type": "text"
      },
      "source": [
        "<a href=\"https://colab.research.google.com/github/pierrelarmande/notebooks/blob/main/IRRI_TW_COA_colab.ipynb\" target=\"_parent\"><img src=\"https://colab.research.google.com/assets/colab-badge.svg\" alt=\"Open In Colab\"/></a>"
      ]
    },
    {
      "cell_type": "code",
      "execution_count": 3,
      "metadata": {
        "id": "qLKM03MtuCO2"
      },
      "outputs": [],
      "source": [
        "import pandas as pd\n",
        "import json\n",
        "import csv\n",
        "import pickle\n",
        "from urllib.request import urlopen\n",
        "import numpy as np\n",
        "import re"
      ]
    },
    {
      "cell_type": "code",
      "source": [
        "!pip install itables"
      ],
      "metadata": {
        "id": "dFWnF0NqjqIB"
      },
      "execution_count": null,
      "outputs": []
    },
    {
      "cell_type": "code",
      "source": [
        "from itables import show"
      ],
      "metadata": {
        "id": "5r6qV3fgjneM"
      },
      "execution_count": 3,
      "outputs": []
    },
    {
      "cell_type": "code",
      "source": [
        "from itables import init_notebook_mode\n",
        "init_notebook_mode(all_interactive=True)"
      ],
      "metadata": {
        "id": "B0dQshRHdB7X"
      },
      "execution_count": 24,
      "outputs": []
    },
    {
      "cell_type": "code",
      "source": [
        "from itables.sample_dfs import get_indicators\n",
        "import itables.options as opt\n",
        "\n",
        "opt.lengthMenu = [2, 5, 10, 20, 50, 100, 200, 500]\n",
        "opt.maxBytes = 10000"
      ],
      "metadata": {
        "id": "ezL-wqmqduqi"
      },
      "execution_count": 26,
      "outputs": []
    },
    {
      "cell_type": "code",
      "source": [
        "from google.colab import drive\n",
        "drive.mount('/content/gdrive')\n",
        "%cd /content/gdrive/MyDrive/Github/"
      ],
      "metadata": {
        "colab": {
          "base_uri": "https://localhost:8080/"
        },
        "id": "oW4CraOLwgks",
        "outputId": "e610a76a-3711-4848-d924-be07f4047b19"
      },
      "execution_count": 4,
      "outputs": [
        {
          "output_type": "stream",
          "name": "stdout",
          "text": [
            "Mounted at /content/gdrive\n",
            "/content/gdrive/MyDrive/Github\n"
          ]
        }
      ]
    },
    {
      "cell_type": "code",
      "source": [
        "# Connecting to the GIT repository\n",
        "! git config --global user.email \"plarmande@gmail.com\"\n",
        "! git config --global user.name \"pierrelarmande\"\n",
        "\n",
        "username = 'pierrelarmande'\n",
        "repo = 'gene-phenotype-NLP'\n",
        "# To create a token : https://github.com/settings/tokens\n",
        "git_token = ''\n",
        "\n",
        "url = \"https://\"+git_token+\"@github.com/\"+username+\"/\"+repo+\".git\""
      ],
      "metadata": {
        "id": "iQO1g7y_wi5T"
      },
      "execution_count": 5,
      "outputs": []
    },
    {
      "cell_type": "code",
      "source": [
        "# Clone if doesn't already exist\n",
        "#!git clone {url}\n",
        "\n",
        "%cd $repo\n",
        "#%cd $repo\n",
        "#! git pull"
      ],
      "metadata": {
        "colab": {
          "base_uri": "https://localhost:8080/"
        },
        "id": "WJpCeUFOwlBb",
        "outputId": "e73b3a2a-35ae-4075-b2e3-e327df27873e"
      },
      "execution_count": 7,
      "outputs": [
        {
          "output_type": "stream",
          "name": "stdout",
          "text": [
            "/content/gdrive/MyDrive/Github/gene-phenotype-NLP/gene-phenotype-NLP\n"
          ]
        }
      ]
    },
    {
      "cell_type": "code",
      "source": [
        "# IRIC data\n",
        "data_filename = r'output/iric_data_ricenet.pkl'\n",
        "ids_filename = r'output/iric_identifiers.pkl'\n",
        "\n",
        "iric = pd.read_pickle(data_filename)\n",
        "iric_ids = pd.read_pickle(ids_filename)"
      ],
      "metadata": {
        "id": "SqlhV4pMwuNC"
      },
      "execution_count": 8,
      "outputs": []
    },
    {
      "cell_type": "code",
      "source": [
        "# creating a mapping from raprepname into iricname\n",
        "mapping_rap_iric = {}\n",
        "\n",
        "for idx, line in iric_ids.iterrows():\n",
        "    if line['raprepName'] is None:\n",
        "        continue\n",
        "\n",
        "    if ',' in line['raprepName']:\n",
        "        for rap in line['raprepName'].split(','):\n",
        "            if rap in mapping_rap_iric:\n",
        "                print(f\"{rap} exist already and has as value : {mapping_rap_iric[rap]}\")\n",
        "            else:\n",
        "                mapping_rap_iric[rap] = idx\n",
        "    else:\n",
        "        if line['raprepName'] in mapping_rap_iric:\n",
        "            print(f\"{line['raprepName']} exist already and has as value : {mapping_rap_iric[line['raprepName']]}\")\n",
        "        else:\n",
        "            mapping_rap_iric[line['raprepName']] = idx"
      ],
      "metadata": {
        "id": "NKS6xkCgw2c0"
      },
      "execution_count": null,
      "outputs": []
    },
    {
      "cell_type": "code",
      "source": [
        "#iric_ids.to_csv('output/out.csv')"
      ],
      "metadata": {
        "id": "aMUXDhP3w7Y6"
      },
      "execution_count": null,
      "outputs": []
    },
    {
      "cell_type": "code",
      "source": [
        "iric.columns"
      ],
      "metadata": {
        "colab": {
          "base_uri": "https://localhost:8080/",
          "height": 170
        },
        "id": "jdQNPCHdxXew",
        "outputId": "810328e4-be62-490e-b493-4ab0cc3c5b48"
      },
      "execution_count": 2,
      "outputs": [
        {
          "output_type": "error",
          "ename": "NameError",
          "evalue": "ignored",
          "traceback": [
            "\u001b[0;31m---------------------------------------------------------------------------\u001b[0m",
            "\u001b[0;31mNameError\u001b[0m                                 Traceback (most recent call last)",
            "\u001b[0;32m<ipython-input-2-812e227a8a55>\u001b[0m in \u001b[0;36m<module>\u001b[0;34m\u001b[0m\n\u001b[0;32m----> 1\u001b[0;31m \u001b[0miric\u001b[0m\u001b[0;34m.\u001b[0m\u001b[0mcolumns\u001b[0m\u001b[0;34m\u001b[0m\u001b[0;34m\u001b[0m\u001b[0m\n\u001b[0m",
            "\u001b[0;31mNameError\u001b[0m: name 'iric' is not defined"
          ]
        }
      ]
    },
    {
      "cell_type": "code",
      "source": [
        "iric.drop_duplicates(subset=\"iricname\",keep=False, inplace=True)"
      ],
      "metadata": {
        "id": "vq3vxeZQevqY"
      },
      "execution_count": 33,
      "outputs": []
    },
    {
      "cell_type": "code",
      "source": [
        "columns = ['contig', 'fmin', 'fmax', 'strand', 'iricname', 'description',\n",
        "       'CGSNL Gene Name', 'Gene name synonym(s)', 'Protein Name',\n",
        "        'Explanation', 'Trait Class', 'Trait Ontology', 'Plant Ontology', 'TF',\n",
        "        'Description', 'RAP-DB Gene Name Synonym(s)',\n",
        "       'Oryzabase Gene Name Synonym(s)',  'ORF evidence',\n",
        "       'Keyword', 'Family', 'Gene Symbols','name', 'description ensembl'\n",
        "       , 'protein_id', 'Uniprot/SWISSPROT','Uniprot/SPTREMBL',\n",
        "        'Pfam', 'InterPro:description','GO:evidence',\n",
        "        'GO:term']"
      ],
      "metadata": {
        "id": "YO9yIFM7fGbA"
      },
      "execution_count": 34,
      "outputs": []
    },
    {
      "cell_type": "code",
      "source": [
        "# pre-harvest sprouting\n"
      ],
      "metadata": {
        "id": "zgAIv5bM57So"
      },
      "execution_count": null,
      "outputs": []
    },
    {
      "cell_type": "code",
      "source": [
        "# find genes in a genomic region\n",
        "qtl1_chr1 = iric.loc[(iric['contig'] == 'chr01') & (iric['fmin'] >= 1513005) & (iric['fmax'] <= 1732933)  ]"
      ],
      "metadata": {
        "id": "AUkF_hpWw9JY"
      },
      "execution_count": 35,
      "outputs": []
    },
    {
      "cell_type": "code",
      "source": [
        "qtl1_chr1.shape"
      ],
      "metadata": {
        "colab": {
          "base_uri": "https://localhost:8080/"
        },
        "id": "CUBBaNTtxPfh",
        "outputId": "af257829-1f4d-4af8-f0ea-caaa95361fb5"
      },
      "execution_count": 36,
      "outputs": [
        {
          "output_type": "execute_result",
          "data": {
            "text/plain": [
              "(39, 68)"
            ]
          },
          "metadata": {},
          "execution_count": 36
        }
      ]
    },
    {
      "cell_type": "code",
      "source": [
        "qtl1_chr1_filtred = qtl1_chr1[columns]"
      ],
      "metadata": {
        "id": "aN9NCh2FgJdS"
      },
      "execution_count": 37,
      "outputs": []
    },
    {
      "cell_type": "code",
      "source": [
        "qtl1_chr1['TF'].value_counts()"
      ],
      "metadata": {
        "colab": {
          "base_uri": "https://localhost:8080/"
        },
        "id": "qany1HnJzm32",
        "outputId": "39e91a46-b246-40ed-9d72-14637f2fde94"
      },
      "execution_count": 10,
      "outputs": [
        {
          "output_type": "execute_result",
          "data": {
            "text/plain": [
              "0    41\n",
              "1     2\n",
              "Name: TF, dtype: int64"
            ]
          },
          "metadata": {},
          "execution_count": 10
        }
      ]
    },
    {
      "cell_type": "code",
      "source": [
        "qtl1_chr1_filtred[qtl1_chr1_filtred['TF'] == 1]"
      ],
      "metadata": {
        "id": "jD1xYOAfz0zt"
      },
      "execution_count": null,
      "outputs": []
    },
    {
      "cell_type": "code",
      "source": [
        "qtl1_chr1.info()"
      ],
      "metadata": {
        "id": "q_c-59z-xvIz"
      },
      "execution_count": null,
      "outputs": []
    },
    {
      "cell_type": "code",
      "source": [
        "pd.set_option(\"display.max.columns\", None)"
      ],
      "metadata": {
        "id": "Cj-Nlpf9xT8f"
      },
      "execution_count": 14,
      "outputs": []
    },
    {
      "cell_type": "code",
      "source": [
        "pd.set_option('max_colwidth', 400)"
      ],
      "metadata": {
        "id": "2nSWqmvFd_0K"
      },
      "execution_count": 15,
      "outputs": []
    },
    {
      "cell_type": "code",
      "source": [
        "show(qtl1_chr1_filtred[qtl1_chr1_filtred['Trait Class'].notnull() | qtl1_chr1['Trait Ontology'].notnull() ], maxbytes=0)"
      ],
      "metadata": {
        "id": "Q1uptLuNxemM"
      },
      "execution_count": null,
      "outputs": []
    }
  ]
}