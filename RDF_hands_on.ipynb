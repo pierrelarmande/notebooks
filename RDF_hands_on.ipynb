{
  "nbformat": 4,
  "nbformat_minor": 0,
  "metadata": {
    "kernelspec": {
      "display_name": "Python 3",
      "language": "python",
      "name": "python3"
    },
    "language_info": {
      "codemirror_mode": {
        "name": "ipython",
        "version": 3
      },
      "file_extension": ".py",
      "mimetype": "text/x-python",
      "name": "python",
      "nbconvert_exporter": "python",
      "pygments_lexer": "ipython3",
      "version": "3.7.6"
    },
    "colab": {
      "provenance": [],
      "collapsed_sections": [],
      "include_colab_link": true
    }
  },
  "cells": [
    {
      "cell_type": "markdown",
      "metadata": {
        "id": "view-in-github",
        "colab_type": "text"
      },
      "source": [
        "<a href=\"https://colab.research.google.com/github/pierrelarmande/notebooks/blob/main/RDF_hands_on.ipynb\" target=\"_parent\"><img src=\"https://colab.research.google.com/assets/colab-badge.svg\" alt=\"Open In Colab\"/></a>"
      ]
    },
    {
      "cell_type": "markdown",
      "metadata": {
        "id": "GlQFg2OnrZtJ"
      },
      "source": [
        "# RDF hands-on"
      ]
    },
    {
      "cell_type": "markdown",
      "metadata": {
        "id": "230lY_z1rZtM"
      },
      "source": [
        "## Definitions\n",
        "1. an RDF **statement** represents a **relationship** between two resources: a **subject** and an **object**\n",
        "1. relationships are directional and are called a .red[predicates] (or RDF properties)\n",
        "1. (logical) statements are called **triple** : {`subject`, `predicate`, `object`}\n",
        "1. a set of triples form a **directed labelled graph** : nodes are IRIs or Literals, edges are predicate (IRIs only)\n",
        "\n",
        "Go through https://www.w3.org/TR/rdf11-primer/ to have more details on RDF. \n",
        "\n",
        "## Vocabulary: IRIs and Literals\n",
        "**Resource** refer two complex objects identified by an **IRI** (International Resource Identifier == URI allowing international characters). Note that URLs are IRIs pointing to web accessible documents/data. URIs can be shortened with **PREFIX**. As an example `<http://my/super/vocab/my_term>` can be shortened as `ns:my_term` if `ns` is defined as a prefix for `http://my/super/vocab/`. \n",
        "\n",
        "**Literals** refer two simple values (numercial values, strings, boolean, dates)\n",
        "\n",
        "## Turtle syntax (todo)\n",
        "- header to define prefix\n",
        "   - example: with `@prefix ns: http://my_voc# .`, `http://my_voc#term` can be written as `ns:term` \n",
        "- generally one line per triple with a `.` at the end: `<subject> <predicate> <object> .`\n",
        "- possible shortcuts to share the same subject: `;` \n",
        "```\n",
        "s p1 o1 ; \n",
        "    p2 o2 .\n",
        "```\n",
        "- possible shortcuts to share the same subject-predicate: `,` \n",
        "```\n",
        "s p o1, o2, o3 .\n",
        "```\n",
        "\n",
        "\n",
        "\n",
        "## Example\n",
        "turtle syntax: \n",
        "```ruby\n",
        "<http://HG37> rdf:type <http://human_genome> .\n",
        "<http://sample1> <http://is_aligned_with> <http://HG37> .\n",
        "<http://sample1> rdfs:comment \"Sample 1 from Study X [...]\"^^xsd:string .\n",
        "```\n",
        "\n",
        "or \n",
        "\n",
        "```turtle\n",
        "<http://HG37> rdf:type <http://human_genome> .\n",
        "<http://sample1> <http://is_aligned_with> <http://HG37> ;\n",
        "              rdfs:comment \"Sample 1 from Study X [...]\"^^xsd:string .\n",
        "```"
      ]
    },
    {
      "cell_type": "markdown",
      "metadata": {
        "id": "UZYXha_XrZtN"
      },
      "source": [
        "## Question 1\n",
        "\n",
        "1. Go to https://www.ldf.fi/service/rdf-grapher\n",
        "2. Consider the following RDF properties `family:has_mother`, `family:has_father`, `family:has_sister`\n",
        "3. Represent with RDF triples the following family:\n",
        "  -  *the mother of John is Mary*,\n",
        "  -  *Mickael is the son of Mark*,\n",
        "  -  *John and Mark are cousins*.\n",
        "4. Generate a graphical representation of the RDF graph.\n",
        "\n",
        "Note: use http://www.easyrdf.org/converter to convert RDF serialization format"
      ]
    },
    {
      "cell_type": "markdown",
      "metadata": {
        "id": "E8HA0BcmrZtN"
      },
      "source": [
        "## Answer\n",
        "\n",
        "```ruby\n",
        "@prefix ns: <http://www.w3.org/1999/02/22-rdf-syntax-ns#> .\n",
        "\n",
        "<http://John> ns:has_mother <http://Mary> .\n",
        "<http://Mickael> ns:has_father <http://Mark> .\n",
        "<http://Mark> ns:has_sister <http://Mary> .\n",
        "```\n",
        "\n",
        "![:scale 50%](fig/family.png)"
      ]
    },
    {
      "cell_type": "markdown",
      "metadata": {
        "id": "Si0LklwZrZtO"
      },
      "source": [
        "---"
      ]
    },
    {
      "cell_type": "markdown",
      "metadata": {
        "id": "-ErT1MOqrZtO"
      },
      "source": [
        "# SPARQL hands-on"
      ]
    },
    {
      "cell_type": "markdown",
      "metadata": {
        "id": "2sKCstgJrZtP"
      },
      "source": [
        "SPARQL is the standards language to query multiple data sources expressed in RDF. The principle consists in defining a **graph pattern** to be matched against an RDF graph."
      ]
    },
    {
      "cell_type": "markdown",
      "metadata": {
        "id": "06F-Il6-rZtP"
      },
      "source": [
        "## <font color='red'>Definition</font>\n",
        "**Triple Patterns** (TPs) are like RDF triples except that each of the *subject*, *predicate* and *object* may be a **variable**. Variables are prefixed with a `?` . \n",
        "\n",
        "## <font color='green'>Example</font>\n",
        "Triple pattern\n",
        "```ruby\n",
        "?x <is_a_variant_of> <RAC1> .\n",
        "```\n",
        "\n",
        "RDF graph\n",
        "```ruby\n",
        "<SNP:123> <is_a_variant_of> <NEMO> .\n",
        "<SNP:rs527330002> <is_a_variant_of> <RAC1> .\n",
        "<SNP:rs527330002> <refers_to_organism> <http://www.uniprot.org/taxonomy/9606> .\n",
        "<SNP:rs61753123> <is_a_variant_of> <RAC1> .\n",
        "```\n",
        "\n",
        "Bindings of variables `?x`\n",
        "```ruby\n",
        "?x = <SNP:rs527330002>\n",
        "?x = <SNP:rs61753123>\n",
        "```\n"
      ]
    },
    {
      "cell_type": "code",
      "metadata": {
        "id": "khwnvCu5rZtQ"
      },
      "source": [],
      "execution_count": null,
      "outputs": []
    },
    {
      "cell_type": "markdown",
      "metadata": {
        "id": "mNC1jnRjrZtR"
      },
      "source": [
        "## <font color='red'>Definition</font>\n",
        "**Basic Graph Patterns** (BGPs) consist in a set of triple patterns to be matched against an RDF graph.\n",
        "## <font color='green'>Example</font>\n",
        "Basic graph pattern\n",
        "```ruby\n",
        "?x <is_a_variant_of> <RAC1> .\n",
        "?x <is_a_risk_factor_for> ?z\n",
        "```\n",
        "![:scale 60%](fig/bgp.png)\n",
        "\n"
      ]
    },
    {
      "cell_type": "markdown",
      "metadata": {
        "id": "XW_4vlMdrZtR"
      },
      "source": [
        "# 4 Types of SPARQL queries\n",
        "- **SELECT** : returns the variables values (i.e. bound variables) for each graph pattern match ;\n",
        "- **CONSTRUCT** : returns an RDF graph constructed by substituting variables in a set of triple patterns ;\n",
        "- **ASK** : returns a boolean (true/false) indicating whether a query pattern matches or not ;\n",
        "- **DESCRIBE** : returns an RDF graph that describes the resources found (resources neighborhood).\n",
        "\n",
        "<br>\n",
        "<br>\n",
        "Additional features: Optional BGPs, union, filters, aggregate functions, negation, service, *etc.*\n",
        "\n",
        "# Anatomy of a SPARQL query\n",
        "\n",
        "![:scale 95%](fig/anat.png)"
      ]
    },
    {
      "cell_type": "markdown",
      "metadata": {
        "id": "6fPgnAXvrZtR"
      },
      "source": [
        "`DESCRIBE <http://identifiers.org/hgnc.symbol/RAC1>`"
      ]
    },
    {
      "cell_type": "markdown",
      "metadata": {
        "id": "Jzb1SXRlrZtS"
      },
      "source": [
        "## Question 2\n",
        "We will now use the RDFlib package to parse RDF Data and do some very basic SPARQL queries. "
      ]
    },
    {
      "cell_type": "code",
      "metadata": {
        "colab": {
          "base_uri": "https://localhost:8080/"
        },
        "id": "U3BfQ2HWt1Z5",
        "outputId": "461d3ef2-fe2b-4a26-f50e-04ca7367e430"
      },
      "source": [
        "!pip install rdflib requests SPARQLWrapper "
      ],
      "execution_count": 1,
      "outputs": [
        {
          "output_type": "stream",
          "name": "stdout",
          "text": [
            "Looking in indexes: https://pypi.org/simple, https://us-python.pkg.dev/colab-wheels/public/simple/\n",
            "Collecting rdflib\n",
            "  Downloading rdflib-6.2.0-py3-none-any.whl (500 kB)\n",
            "\u001b[K     |████████████████████████████████| 500 kB 5.3 MB/s \n",
            "\u001b[?25hRequirement already satisfied: importlib-metadata in /usr/local/lib/python3.7/dist-packages (from rdflib) (5.0.0)\n",
            "Requirement already satisfied: pyparsing in /usr/local/lib/python3.7/dist-packages (from rdflib) (3.0.9)\n",
            "Collecting isodate\n",
            "  Downloading isodate-0.6.1-py2.py3-none-any.whl (41 kB)\n",
            "\u001b[K     |████████████████████████████████| 41 kB 587 kB/s \n",
            "\u001b[?25hRequirement already satisfied: setuptools in /usr/local/lib/python3.7/dist-packages (from rdflib) (57.4.0)\n",
            "Requirement already satisfied: typing-extensions>=3.6.4 in /usr/local/lib/python3.7/dist-packages (from importlib-metadata->rdflib) (4.1.1)\n",
            "Requirement already satisfied: zipp>=0.5 in /usr/local/lib/python3.7/dist-packages (from importlib-metadata->rdflib) (3.9.0)\n",
            "Requirement already satisfied: six in /usr/local/lib/python3.7/dist-packages (from isodate->rdflib) (1.15.0)\n",
            "Installing collected packages: isodate, rdflib\n",
            "Successfully installed isodate-0.6.1 rdflib-6.2.0\n"
          ]
        }
      ]
    },
    {
      "cell_type": "code",
      "metadata": {
        "id": "jez0nU7drZtS"
      },
      "source": [
        "from rdflib import Graph\n",
        "\n",
        "# RDF graph, in turtle syntax, stored in a string\n",
        "my_rdf_data = \"\"\"\n",
        "@prefix ns: <http://my_voc/> .\n",
        "@prefix snp: <http://my_snps/> .\n",
        "\n",
        "snp:123 ns:is_a_variant_of \"NEMO\" .\n",
        "snp:rs527330002 ns:is_a_variant_of \"RAC1\" .\n",
        "snp:rs527330002 ns:refers_to_organism <http://www.uniprot.org/taxonomy/9606> .\n",
        "snp:rs61753123 ns:is_a_variant_of \"RAC1\" .\n",
        "\"\"\"\n",
        "\n",
        "# Initialization of the in-memory RDF graph, RDFlib Graph object\n",
        "\n",
        "\n",
        "# Parsing of the RDF data\n",
        "\n",
        "\n",
        "# Printing the size of the graph and serializing it again. \n"
      ],
      "execution_count": null,
      "outputs": []
    },
    {
      "cell_type": "markdown",
      "metadata": {
        "id": "7wXnKrGwrZtU"
      },
      "source": [
        "We now write execute a simple query to search for \"variants\" of `RAC1`. "
      ]
    },
    {
      "cell_type": "code",
      "metadata": {
        "id": "qS4P3GturZtU"
      },
      "source": [],
      "execution_count": null,
      "outputs": []
    },
    {
      "cell_type": "markdown",
      "metadata": {
        "id": "-2nxNPi-rZtU"
      },
      "source": [
        "## Question 3 \n",
        "Generalize this query to show all *is a variant of* relations. You can use two variables `?x` and `?y`. "
      ]
    },
    {
      "cell_type": "code",
      "metadata": {
        "id": "E-x-MAnsrZtV"
      },
      "source": [],
      "execution_count": null,
      "outputs": []
    },
    {
      "cell_type": "markdown",
      "metadata": {
        "id": "DV1oUGJZrZtV"
      },
      "source": [
        "## Question 4\n",
        "Search for the name of the gene who has a variant refering to the `http://www.uniprot.org/taxonomy/9606` organism"
      ]
    },
    {
      "cell_type": "code",
      "metadata": {
        "colab": {
          "base_uri": "https://localhost:8080/"
        },
        "id": "binndyeerZtV",
        "outputId": "59ab39bb-e4ae-407a-c7d3-fd7369697b90"
      },
      "source": [],
      "execution_count": 5,
      "outputs": [
        {
          "output_type": "stream",
          "name": "stdout",
          "text": [
            "(rdflib.term.Literal('RAC1'),)\n"
          ]
        }
      ]
    },
    {
      "cell_type": "code",
      "metadata": {
        "id": "sFU6NeIVrZtV"
      },
      "source": [],
      "execution_count": null,
      "outputs": []
    }
  ]
}