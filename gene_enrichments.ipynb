{
  "cells": [
    {
      "cell_type": "markdown",
      "metadata": {
        "id": "view-in-github",
        "colab_type": "text"
      },
      "source": [
        "<a href=\"https://colab.research.google.com/github/pierrelarmande/notebooks/blob/main/gene_enrichments.ipynb\" target=\"_parent\"><img src=\"https://colab.research.google.com/assets/colab-badge.svg\" alt=\"Open In Colab\"/></a>"
      ]
    },
    {
      "cell_type": "code",
      "execution_count": 8,
      "metadata": {
        "id": "s3d2K2QX1zAx"
      },
      "outputs": [],
      "source": [
        "import pandas as pd\n",
        "import json\n",
        "import csv\n",
        "import pickle\n",
        "from urllib.request import urlopen\n",
        "import numpy as np\n",
        "import missingno as msno\n",
        "import re"
      ]
    },
    {
      "cell_type": "code",
      "execution_count": null,
      "metadata": {
        "id": "TjzXKBd72CVU"
      },
      "outputs": [],
      "source": [
        "from google.colab import drive\n",
        "drive.mount('/content/gdrive')\n",
        "%cd /content/gdrive/MyDrive/Github/"
      ]
    },
    {
      "cell_type": "code",
      "execution_count": 18,
      "metadata": {
        "id": "P4BpmFJl2L5V"
      },
      "outputs": [],
      "source": [
        "# Connecting to the GIT repository\n",
        "! git config --global user.email \"plarmande@gmail.com\"\n",
        "! git config --global user.name \"pierrelarmande\"\n",
        "\n",
        "username = 'pierrelarmande'\n",
        "repo = 'gene-phenotype-NLP'\n",
        "# To create a token : https://github.com/settings/tokens\n",
        "git_token = ''\n",
        "\n",
        "url = \"https://\"+git_token+\"@github.com/\"+username+\"/\"+repo+\".git\"\n",
        "\n"
      ]
    },
    {
      "cell_type": "code",
      "source": [
        "# ! git config --global user.email \"pierre.larmande@ird.fr\"\n",
        "# ! git config --global user.name \"larmande\"\n",
        "\n",
        "# username = ''\n",
        "# repo = ''\n",
        "# git_token = ''\n",
        "#https://forge.ird.fr/diade/larmande.git\n",
        "# url = \"\""
      ],
      "metadata": {
        "id": "rXb4Ne-c89Ul"
      },
      "execution_count": 10,
      "outputs": []
    },
    {
      "cell_type": "code",
      "execution_count": null,
      "metadata": {
        "id": "wzwOTMMQ2Wz5"
      },
      "outputs": [],
      "source": [
        "# #\n",
        "# url = \"\"\n",
        "# # Clone if doesn't already exist\n",
        "# !git clone {url}\n",
        "\n",
        "# #%cd gene-phenotype-NLP/gene-phenotype-NLP\n",
        "%cd $repo\n",
        "# #! git pull"
      ]
    },
    {
      "cell_type": "code",
      "execution_count": 21,
      "metadata": {
        "id": "sEjmJW9H23J9"
      },
      "outputs": [],
      "source": [
        "# IRIC data\n",
        "data_filename = r'output/iric_data.pkl'\n",
        "ids_filename = r'output/iric_identifiers.pkl'\n",
        "#gene_list = r'data/gene_list_final.txt'\n",
        "\n",
        "iric = pd.read_pickle(data_filename)\n",
        "iric_ids = pd.read_pickle(ids_filename)\n",
        "#gene_list = pd.read_csv(gene_list)"
      ]
    },
    {
      "cell_type": "code",
      "source": [
        "iric.shape"
      ],
      "metadata": {
        "colab": {
          "base_uri": "https://localhost:8080/"
        },
        "id": "r7dYbBxqWQlI",
        "outputId": "b3723a1e-422f-487f-b0a5-6dd73a938e99"
      },
      "execution_count": 22,
      "outputs": [
        {
          "output_type": "execute_result",
          "data": {
            "text/plain": [
              "(79207, 66)"
            ]
          },
          "metadata": {},
          "execution_count": 22
        }
      ]
    },
    {
      "cell_type": "code",
      "execution_count": 23,
      "metadata": {
        "id": "VwwEotGLlcVQ"
      },
      "outputs": [],
      "source": [
        "# creating a mapping from msu into iricname\n",
        "mapping_msu_iric = {}\n",
        "\n",
        "for idx, line in iric_ids.iterrows():\n",
        "    if line['msu7Name'] is None:\n",
        "        continue\n",
        "\n",
        "    if ',' in line['msu7Name']:\n",
        "        for rap in line['msu7Name'].split(','):\n",
        "            if rap in mapping_msu_iric:\n",
        "                print(f\"{rap} exist already and has as value : {mapping_msu_iric[rap]}\")\n",
        "            else:\n",
        "                mapping_msu_iric[rap] = idx\n",
        "    else:\n",
        "        if line['msu7Name'] in mapping_msu_iric:\n",
        "            print(f\"{line['msu7Name']} exist already and has as value : {mapping_msu_iric[line['msu7Name']]}\")\n",
        "        else:\n",
        "            mapping_msu_iric[line['msu7Name']] = idx"
      ]
    },
    {
      "cell_type": "code",
      "execution_count": null,
      "metadata": {
        "id": "YMV5t_SkpHvN"
      },
      "outputs": [],
      "source": [
        "iric.columns"
      ]
    },
    {
      "cell_type": "code",
      "execution_count": null,
      "metadata": {
        "id": "V9_3xLrNYMoT"
      },
      "outputs": [],
      "source": []
    },
    {
      "cell_type": "code",
      "execution_count": null,
      "metadata": {
        "id": "pJTS1bulpNOR"
      },
      "outputs": [],
      "source": [
        "iric_ids.head()"
      ]
    },
    {
      "cell_type": "code",
      "execution_count": null,
      "metadata": {
        "id": "rMI0ywTet1U6"
      },
      "outputs": [],
      "source": []
    },
    {
      "cell_type": "code",
      "execution_count": null,
      "metadata": {
        "id": "yL-wlQi0s5kD"
      },
      "outputs": [],
      "source": [
        "iric_ids['combined'] = iric_ids['raprepName'].astype(str) + \"_\" + iric_ids['msu7Name'].astype(str) + \"_\" + iric_ids['rappredName'].astype(str) "
      ]
    },
    {
      "cell_type": "code",
      "execution_count": null,
      "metadata": {
        "id": "i55yHkYbEa0u"
      },
      "outputs": [],
      "source": []
    },
    {
      "cell_type": "code",
      "execution_count": null,
      "metadata": {
        "id": "BXA7axHu0GEJ"
      },
      "outputs": [],
      "source": [
        "iric_ids.to_csv('output/out.csv')"
      ]
    },
    {
      "cell_type": "code",
      "execution_count": null,
      "metadata": {
        "id": "_D09_fjA0cwq"
      },
      "outputs": [],
      "source": [
        "mypd = pd.read_csv('output/out.csv')"
      ]
    },
    {
      "cell_type": "code",
      "execution_count": null,
      "metadata": {
        "id": "pvlACd260nus"
      },
      "outputs": [],
      "source": [
        "mypd.head()"
      ]
    },
    {
      "cell_type": "code",
      "execution_count": null,
      "metadata": {
        "id": "m0ruC0DZv7r4"
      },
      "outputs": [],
      "source": [
        "gene_list.head()"
      ]
    },
    {
      "cell_type": "code",
      "execution_count": null,
      "metadata": {
        "id": "2x2_dsWNXgyC"
      },
      "outputs": [],
      "source": [
        "\n"
      ]
    },
    {
      "cell_type": "code",
      "execution_count": null,
      "metadata": {
        "id": "z5c4bkiKuPmQ"
      },
      "outputs": [],
      "source": [
        "mydict = dict(zip(mypd.iricname, mypd.combined))\n",
        "#mydict= pd.Series(iric_ids.combined.values).to_dict()\n",
        "#mydict=iric_ids.set_index('iricname').T.to_dict('records')#iric_ids.set_index('iricname')['combined'].to_dict()"
      ]
    },
    {
      "cell_type": "code",
      "execution_count": null,
      "metadata": {
        "id": "eui7u8xawWa2"
      },
      "outputs": [],
      "source": [
        "res = [key for key, val in mydict.items() if 'Os01g0100100' in val]\n",
        "print(res)"
      ]
    },
    {
      "cell_type": "code",
      "execution_count": null,
      "metadata": {
        "id": "0Hxg3asn0Cq1"
      },
      "outputs": [],
      "source": [
        "#def matchingKeys(dictionary, searchString):\n",
        "    #return [key for key,val in dictionary.items() if any(searchString in s for s in val)]\n",
        "def search(mydict, lookup):\n",
        "    a=[]\n",
        "    for key, value in mydict.items():\n",
        "        for v in value:\n",
        "            if lookup in v:\n",
        "                 a.append(key)\n",
        "    a=list(set(a))\n",
        "    return a\n",
        "\n"
      ]
    },
    {
      "cell_type": "code",
      "execution_count": null,
      "metadata": {
        "colab": {
          "base_uri": "https://localhost:8080/"
        },
        "id": "NX70ikbO1xxZ",
        "outputId": "768822fb-624a-4145-8676-52f7e26ba697"
      },
      "outputs": [
        {
          "name": "stdout",
          "output_type": "stream",
          "text": [
            "False\n"
          ]
        }
      ],
      "source": [
        "print( \"01g0100100\" in mydict.values() )\n",
        "\n",
        "#print(matchingKeys(mydict,'Os01g0100100'))"
      ]
    },
    {
      "cell_type": "code",
      "execution_count": null,
      "metadata": {
        "colab": {
          "background_save": true
        },
        "id": "o4R-lLKWt_qj"
      },
      "outputs": [],
      "source": [
        "mapping_list_iric = {}\n",
        "for gene_id in gene_list.Gene_ID.to_numpy():\n",
        "  for GID in gene_id.split('_',1 ):\n",
        "    if GID != \"None\":\n",
        "     osnippo = [key for key, val in mydict.items() if GID in val]\n",
        "     if osnippo:\n",
        "       mapping_list_iric[gene_id] = osnippo[0]\n",
        "       print(gene_id + \"  \" + osnippo[0])\n"
      ]
    },
    {
      "cell_type": "code",
      "execution_count": null,
      "metadata": {
        "id": "HcJgvx4igDX_"
      },
      "outputs": [],
      "source": [
        "with open('output/mapping_list_iric.csv', 'w') as f:\n",
        "    for key in mapping_list_iric.keys():\n",
        "        f.write(\"%s,%s\\n\" % (key, mapping_list_iric[key]))"
      ]
    },
    {
      "cell_type": "code",
      "execution_count": null,
      "metadata": {
        "id": "DYXHfa5vW0_q"
      },
      "outputs": [],
      "source": [
        "file = r'output/mapping_list_iric.csv'\n",
        "mapping_list = pd.read_csv(file, names=['rna_id','iricname'], header=None)"
      ]
    },
    {
      "cell_type": "code",
      "execution_count": null,
      "metadata": {
        "id": "GvSMvAH3YDQQ"
      },
      "outputs": [],
      "source": [
        "mapping_list[mapping_list.iricname=='OsNippo01g010050']"
      ]
    },
    {
      "cell_type": "code",
      "source": [
        "mapping_list.head()"
      ],
      "metadata": {
        "id": "nuW8k4hxBnK8"
      },
      "execution_count": null,
      "outputs": []
    },
    {
      "cell_type": "code",
      "source": [
        "mapping_list.iricname = mapping_list.iricname.str.lstrip()"
      ],
      "metadata": {
        "id": "3uTBANrdB4Kj"
      },
      "execution_count": null,
      "outputs": []
    },
    {
      "cell_type": "code",
      "source": [
        "mapping_list[mapping_list.iricname=='OsNippo01g010050']"
      ],
      "metadata": {
        "id": "WuucTrQTCPt4"
      },
      "execution_count": null,
      "outputs": []
    },
    {
      "cell_type": "code",
      "execution_count": null,
      "metadata": {
        "id": "OL1pRj0NYZto"
      },
      "outputs": [],
      "source": [
        "pd_merged = pd.merge(mapping_list, iric, on=['iricname'])"
      ]
    },
    {
      "cell_type": "code",
      "execution_count": null,
      "metadata": {
        "id": "d18VoKpUhkRK"
      },
      "outputs": [],
      "source": [
        "pd_merged.head()"
      ]
    },
    {
      "cell_type": "code",
      "source": [
        "pd_merged[['rna_id','Gene Symbols','description','GO:term']]"
      ],
      "metadata": {
        "id": "rpvtD5kAZNkl"
      },
      "execution_count": null,
      "outputs": []
    },
    {
      "cell_type": "code",
      "source": [
        "pd_reduce = pd_merged[['rna_id','Gene Symbols','description','GO:term']]"
      ],
      "metadata": {
        "id": "nH7TWZwrXDcF"
      },
      "execution_count": null,
      "outputs": []
    },
    {
      "cell_type": "code",
      "source": [
        "pd_reduce.head()"
      ],
      "metadata": {
        "id": "nbDtyxjhiQpr"
      },
      "execution_count": null,
      "outputs": []
    },
    {
      "cell_type": "code",
      "source": [
        "file1=open(\"output/ANNOTATIONS.csv\", \"w\")\n",
        "output1=open(\"output/ENRICHMENTS.csv\", \"w\")\n",
        "annot_buffer = {}\n",
        "enrich_buffer = ''\n",
        "for id,symbol,desc,gos in pd_reduce.to_numpy():\n",
        "  #print(id)\n",
        "  if symbol:\n",
        "    #print(symbol)\n",
        "    desc = re.sub('\\'|,|\\(|\\)|\\.|;',' ', str(desc))\n",
        "    symbol_str = re.sub('\\[|\\]|,|\\'','',str(symbol))\n",
        "    annot_buffer[id] = \"%s %s\\n\" % (symbol_str,desc)\n",
        "    \n",
        "  else:\n",
        "    desc = re.sub('\\'|,|\\(|\\)|\\.|;',' ', str(desc))\n",
        "    annot_buffer[id] = \"%s %s\\n\" % (symbol_str,desc)\n",
        "  if gos:\n",
        "    #print(gos)\n",
        "    for go in gos:\n",
        "      enrich_buffer += \"%s,%s\\n\" % (id,go)\n",
        "      \n",
        "\n",
        "for key, value in annot_buffer.items():\n",
        "    file1.write(key + \",\" + value)\n",
        "output1.write(enrich_buffer)\n",
        "file1.close\n",
        "output1.close"
      ],
      "metadata": {
        "id": "RpRmz-F1LLD0"
      },
      "execution_count": null,
      "outputs": []
    },
    {
      "cell_type": "code",
      "source": [],
      "metadata": {
        "id": "4NPy-2CQThds"
      },
      "execution_count": null,
      "outputs": []
    },
    {
      "cell_type": "markdown",
      "source": [
        "# Adding TF binding site relationship"
      ],
      "metadata": {
        "id": "EAG408rRTier"
      }
    },
    {
      "cell_type": "code",
      "source": [
        "TF_binding = \"http://plantregmap.gao-lab.org/download_ftp.php?filepath=08-download/Oryza_sativa_Japonica_Group/binding/regulation_merged_Osj.txt\"\n",
        "colnames = ['gene1','regulates','gene2','species','motif']\n",
        "df_TF_site = pd.DataFrame(pd.read_csv(urlopen(TF_binding), names=colnames, header=None, sep='\\t'))"
      ],
      "metadata": {
        "id": "RFqKaC42Tpej"
      },
      "execution_count": 25,
      "outputs": []
    },
    {
      "cell_type": "code",
      "source": [
        "df_TF_site.head()"
      ],
      "metadata": {
        "id": "gVtFZjXGUe4n"
      },
      "execution_count": null,
      "outputs": []
    },
    {
      "cell_type": "code",
      "source": [
        "binding_dic= dict()\n",
        "for idx, line in df_TF_site.iterrows():\n",
        "  if line[2] in mapping_msu_iric:\n",
        "    try:\n",
        "      binding_dic[mapping_msu_iric[line[0]]].append(mapping_msu_iric[line[2]])\n",
        "    except KeyError:\n",
        "      binding_dic[mapping_msu_iric[line[0]]] = [mapping_msu_iric[line[2]]]"
      ],
      "metadata": {
        "id": "bxOHJuA9XHED"
      },
      "execution_count": 27,
      "outputs": []
    },
    {
      "cell_type": "code",
      "source": [
        "pd_binding = pd.DataFrame(binding_dic.items(), columns=['iricname', 'binding_site'])"
      ],
      "metadata": {
        "id": "TjjEq050c-AV"
      },
      "execution_count": 28,
      "outputs": []
    },
    {
      "cell_type": "code",
      "source": [
        "pd_binding.set_index(\"iricname\", inplace = True)"
      ],
      "metadata": {
        "id": "enDdOvk5efwW"
      },
      "execution_count": 68,
      "outputs": []
    },
    {
      "cell_type": "code",
      "source": [
        "pd_binding.head()"
      ],
      "metadata": {
        "id": "jotx0C61fThs"
      },
      "execution_count": null,
      "outputs": []
    },
    {
      "cell_type": "code",
      "source": [
        "results = pd.merge(left=iric, right=pd_binding, how='left', left_on='iricname', right_on='iricname')\n",
        "#results = pd.merge(iric,pd_binding, on=['iricname'])"
      ],
      "metadata": {
        "id": "0in7CHWnk9BH"
      },
      "execution_count": 29,
      "outputs": []
    },
    {
      "cell_type": "code",
      "source": [
        "results.shape"
      ],
      "metadata": {
        "colab": {
          "base_uri": "https://localhost:8080/"
        },
        "id": "pOwtSpkvlnin",
        "outputId": "0a7d46f1-5382-4423-9729-20d695bd012f"
      },
      "execution_count": 30,
      "outputs": [
        {
          "output_type": "execute_result",
          "data": {
            "text/plain": [
              "(79207, 67)"
            ]
          },
          "metadata": {},
          "execution_count": 30
        }
      ]
    },
    {
      "cell_type": "code",
      "source": [
        "results[results['iricname']=='OsNippo01g064750']"
      ],
      "metadata": {
        "id": "JCeYQV5llOot"
      },
      "execution_count": null,
      "outputs": []
    },
    {
      "cell_type": "code",
      "source": [
        "pickle.dump(results, open('output/iric_data_TFbinding.pkl', 'wb'))"
      ],
      "metadata": {
        "id": "CQuhr_toqk8b"
      },
      "execution_count": 17,
      "outputs": []
    },
    {
      "cell_type": "markdown",
      "source": [
        "Adding RiceNetV2 positive functional genes associations"
      ],
      "metadata": {
        "id": "-SuYDBzdKsVQ"
      }
    },
    {
      "cell_type": "code",
      "source": [
        "ricenet = \"https://www.inetbio.org/ricenet/dl.php?f=RiceNet_GS\"\n",
        "colnames = ['gene1','gene2']\n",
        "df_ricenet = pd.DataFrame(pd.read_csv(urlopen(ricenet), names=colnames, header=None, sep='\\t'))"
      ],
      "metadata": {
        "id": "VsXbxEAjK1BN"
      },
      "execution_count": 32,
      "outputs": []
    },
    {
      "cell_type": "code",
      "source": [
        "df_ricenet.head()"
      ],
      "metadata": {
        "id": "BJqrrmGGMFQS"
      },
      "execution_count": null,
      "outputs": []
    },
    {
      "cell_type": "code",
      "source": [
        "df_ricenet.shape"
      ],
      "metadata": {
        "colab": {
          "base_uri": "https://localhost:8080/"
        },
        "id": "21GgGdmdMJt3",
        "outputId": "8646964d-a82f-44b7-ceca-a0bbf8d56569"
      },
      "execution_count": 33,
      "outputs": [
        {
          "output_type": "execute_result",
          "data": {
            "text/plain": [
              "(591664, 2)"
            ]
          },
          "metadata": {},
          "execution_count": 33
        }
      ]
    },
    {
      "cell_type": "code",
      "source": [
        "binding_dic= dict()\n",
        "for idx, line in df_ricenet.iterrows():\n",
        "  if line[1] in mapping_msu_iric:\n",
        "    try:\n",
        "      binding_dic[mapping_msu_iric[line[0]]].append(mapping_msu_iric[line[1]])\n",
        "    except KeyError:\n",
        "      binding_dic[mapping_msu_iric[line[0]]] = [mapping_msu_iric[line[1]]]"
      ],
      "metadata": {
        "id": "J3oe7mO0MVtB"
      },
      "execution_count": 34,
      "outputs": []
    },
    {
      "cell_type": "code",
      "source": [
        "pd_binding = pd.DataFrame(binding_dic.items(), columns=['iricname', 'ricenet'])"
      ],
      "metadata": {
        "id": "Jwv0cJSaNKN4"
      },
      "execution_count": 35,
      "outputs": []
    },
    {
      "cell_type": "code",
      "source": [
        "pd_binding.head()"
      ],
      "metadata": {
        "id": "5wqz-0sXNUyO"
      },
      "execution_count": null,
      "outputs": []
    },
    {
      "cell_type": "code",
      "source": [
        "pd_binding.set_index(\"iricname\", inplace = True)"
      ],
      "metadata": {
        "id": "G9p9DIEaOJQM"
      },
      "execution_count": 20,
      "outputs": []
    },
    {
      "cell_type": "code",
      "source": [
        "results2 = pd.merge(left=results, right=pd_binding, how='left', left_on='iricname', right_on='iricname')"
      ],
      "metadata": {
        "id": "04-yV8o0NksG"
      },
      "execution_count": 36,
      "outputs": []
    },
    {
      "cell_type": "code",
      "source": [
        "results2.shape"
      ],
      "metadata": {
        "colab": {
          "base_uri": "https://localhost:8080/"
        },
        "id": "BqIFc451OTsm",
        "outputId": "dfcf19d8-f6ad-4983-890d-c7228e9515a0"
      },
      "execution_count": 37,
      "outputs": [
        {
          "output_type": "execute_result",
          "data": {
            "text/plain": [
              "(79207, 68)"
            ]
          },
          "metadata": {},
          "execution_count": 37
        }
      ]
    },
    {
      "cell_type": "code",
      "source": [
        "results2[results2['iricname']=='OsNippo01g010050']"
      ],
      "metadata": {
        "id": "b6PPF7_TN6XX"
      },
      "execution_count": null,
      "outputs": []
    },
    {
      "cell_type": "code",
      "source": [
        "pickle.dump(results2, open('output/iric_data_ricenet.pkl', 'wb'))"
      ],
      "metadata": {
        "id": "QVUVxuUbpZGG"
      },
      "execution_count": 39,
      "outputs": []
    },
    {
      "cell_type": "code",
      "source": [
        "!git remote set-url origin {url}"
      ],
      "metadata": {
        "id": "PIc0VOzPH3um"
      },
      "execution_count": 84,
      "outputs": []
    },
    {
      "cell_type": "code",
      "source": [
        "!git remote -v"
      ],
      "metadata": {
        "id": "9qnmOdcLJEVT"
      },
      "execution_count": null,
      "outputs": []
    },
    {
      "cell_type": "code",
      "source": [
        "!git remote prune origin"
      ],
      "metadata": {
        "id": "SA7NRpFiKWGI"
      },
      "execution_count": null,
      "outputs": []
    },
    {
      "cell_type": "code",
      "source": [
        "! git pull\n",
        "! git add output/iric_data.pkl\n",
        "! git add output/iric_identifiers.pkl\n",
        "! git commit -m \"Modif des fichiers iric.pkl  et idx\"\n",
        "! git push\n",
        "     "
      ],
      "metadata": {
        "id": "5AYjGSahD5nc"
      },
      "execution_count": null,
      "outputs": []
    }
  ],
  "metadata": {
    "colab": {
      "name": "gene_enrichments.ipynb",
      "provenance": [],
      "authorship_tag": "ABX9TyMtmOQqZ7hh3gNY5dtbWFVL",
      "include_colab_link": true
    },
    "kernelspec": {
      "display_name": "Python 3",
      "name": "python3"
    },
    "language_info": {
      "name": "python"
    }
  },
  "nbformat": 4,
  "nbformat_minor": 0
}